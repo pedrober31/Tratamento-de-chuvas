{
 "cells": [
  {
   "cell_type": "markdown",
   "metadata": {},
   "source": [
    "Cálculo da precipitação média na região de interesse"
   ]
  },
  {
   "cell_type": "code",
   "execution_count": 11,
   "metadata": {},
   "outputs": [],
   "source": [
    "# Importa bibliotecas necessárias\n",
    "import geopandas as gpd\n",
    "import pandas as pd\n",
    "import hydrobr"
   ]
  },
  {
   "cell_type": "code",
   "execution_count": 12,
   "metadata": {},
   "outputs": [],
   "source": [
    "# Carrega dados de chuva\n",
    "chuvas = pd.read_csv(r'C:\\Users\\pedro\\Documents\\Pibic 21-22\\Tratamento-fluviometrico\\Dados\\chuvas.csv', index_col=0)"
   ]
  },
  {
   "cell_type": "code",
   "execution_count": 13,
   "metadata": {},
   "outputs": [],
   "source": [
    "chuvas.index = pd.DatetimeIndex(chuvas.index)\n",
    "chuvas = chuvas.groupby(pd.Grouper(freq='Y')).sum()"
   ]
  },
  {
   "cell_type": "code",
   "execution_count": 14,
   "metadata": {},
   "outputs": [
    {
     "data": {
      "text/plain": [
       "245.7958338249754"
      ]
     },
     "execution_count": 14,
     "metadata": {},
     "output_type": "execute_result"
    }
   ],
   "source": [
    "chuvas.mean().mean()"
   ]
  },
  {
   "cell_type": "markdown",
   "metadata": {},
   "source": [
    "Cálculo da precipitação média anual na região leste e oeste da bacia de interesse"
   ]
  },
  {
   "cell_type": "code",
   "execution_count": 15,
   "metadata": {},
   "outputs": [],
   "source": [
    "# Importa bibliotecas necessárias\n",
    "from shapely.geometry import Point"
   ]
  },
  {
   "cell_type": "code",
   "execution_count": 16,
   "metadata": {},
   "outputs": [],
   "source": [
    "# Obtem códigos das estações plu\n",
    "codigos = chuvas.columns"
   ]
  },
  {
   "cell_type": "code",
   "execution_count": 17,
   "metadata": {},
   "outputs": [],
   "source": [
    "# Cria df contendo as estações plu de interesse\n",
    "lista_estacoes = hydrobr.get_data.ANA.list_prec_stations()\n",
    "lista_estacoes = lista_estacoes.loc[lista_estacoes['Code'].isin(codigos)]"
   ]
  },
  {
   "cell_type": "code",
   "execution_count": 18,
   "metadata": {},
   "outputs": [],
   "source": [
    "# Cria geometria para as estações\n",
    "geometry = [Point(xy) for xy in zip(lista_estacoes['Longitude'], lista_estacoes['Latitude'])]\n",
    "lista_estacoes = gpd.GeoDataFrame(lista_estacoes, geometry=geometry)"
   ]
  },
  {
   "cell_type": "code",
   "execution_count": 19,
   "metadata": {},
   "outputs": [],
   "source": [
    "# Carrega os dados das bacias\n",
    "leste = gpd.read_file(r\"C:\\Users\\pedro\\Documents\\Pibic 21-22\\Tratamento-fluviometrico\\Dados\\Bacia_Leste.shp\")\n",
    "oeste = gpd.read_file(r\"C:\\Users\\pedro\\Documents\\Pibic 21-22\\Tratamento-fluviometrico\\Dados\\Bacia_oeste.shp\")"
   ]
  },
  {
   "cell_type": "code",
   "execution_count": 20,
   "metadata": {},
   "outputs": [],
   "source": [
    "# Dividi estações da região leste da bacia\n",
    "pip_mask_leste = lista_estacoes.within(leste.loc[0, 'geometry'])\n",
    "pip_data_leste = lista_estacoes.loc[pip_mask_leste]"
   ]
  },
  {
   "cell_type": "code",
   "execution_count": 21,
   "metadata": {},
   "outputs": [],
   "source": [
    "# Dividi estações da região oeste da bacia\n",
    "pip_mask_oeste = lista_estacoes.within(oeste.loc[0, 'geometry'])\n",
    "pip_data_oeste = lista_estacoes.loc[pip_mask_oeste]"
   ]
  },
  {
   "cell_type": "code",
   "execution_count": 22,
   "metadata": {},
   "outputs": [],
   "source": [
    "# Obtem codigos das estações plu do leste e oeste\n",
    "codigos_leste = pip_data_leste['Code'].to_list()\n",
    "codigos_oeste = pip_data_oeste['Code'].to_list()"
   ]
  },
  {
   "cell_type": "code",
   "execution_count": 23,
   "metadata": {},
   "outputs": [],
   "source": [
    "# Obtem dados plu das zonas leste e oeste\n",
    "chuvas_leste = chuvas[codigos_leste]\n",
    "chuvas_oeste = chuvas[codigos_oeste]"
   ]
  },
  {
   "cell_type": "code",
   "execution_count": 24,
   "metadata": {
    "tags": []
   },
   "outputs": [
    {
     "data": {
      "text/plain": [
       "200.8419843430906"
      ]
     },
     "execution_count": 24,
     "metadata": {},
     "output_type": "execute_result"
    }
   ],
   "source": [
    "# Obtem precipitação média anual das estações da zona leste\n",
    "chuvas_leste.index = pd.DatetimeIndex(chuvas_leste.index)\n",
    "chuvas_leste = chuvas_leste.groupby(pd.Grouper(freq='Y')).sum()\n",
    "media_anual_leste = chuvas_leste.mean().mean()\n",
    "media_anual_leste"
   ]
  },
  {
   "cell_type": "code",
   "execution_count": 25,
   "metadata": {},
   "outputs": [
    {
     "data": {
      "text/plain": [
       "264.05833517699114"
      ]
     },
     "execution_count": 25,
     "metadata": {},
     "output_type": "execute_result"
    }
   ],
   "source": [
    "# Obtem precipitação média anual das estações da zona oeste\n",
    "chuvas_oeste.index = pd.DatetimeIndex(chuvas_oeste.index)\n",
    "chuvas_oeste = chuvas_oeste.groupby(pd.Grouper(freq='Y')).sum()\n",
    "media_anual_oeste = chuvas_oeste.mean().mean()\n",
    "media_anual_oeste"
   ]
  },
  {
   "cell_type": "markdown",
   "metadata": {},
   "source": [
    "Obter informações complementares para o artigo"
   ]
  },
  {
   "cell_type": "code",
   "execution_count": 28,
   "metadata": {},
   "outputs": [
    {
     "data": {
      "text/plain": [
       "180"
      ]
     },
     "execution_count": 28,
     "metadata": {},
     "output_type": "execute_result"
    }
   ],
   "source": [
    "# Obtem número de estações plu analisadas\n",
    "len(codigos)"
   ]
  },
  {
   "cell_type": "code",
   "execution_count": 30,
   "metadata": {},
   "outputs": [
    {
     "data": {
      "text/plain": [
       "113"
      ]
     },
     "execution_count": 30,
     "metadata": {},
     "output_type": "execute_result"
    }
   ],
   "source": [
    "# Obtem o time-frame\n",
    "chuvas.shape[0]"
   ]
  }
 ],
 "metadata": {
  "kernelspec": {
   "display_name": "Python 3.10.7 ('myenv')",
   "language": "python",
   "name": "python3"
  },
  "language_info": {
   "codemirror_mode": {
    "name": "ipython",
    "version": 3
   },
   "file_extension": ".py",
   "mimetype": "text/x-python",
   "name": "python",
   "nbconvert_exporter": "python",
   "pygments_lexer": "ipython3",
   "version": "3.10.7 (tags/v3.10.7:6cc6b13, Sep  5 2022, 14:08:36) [MSC v.1933 64 bit (AMD64)]"
  },
  "orig_nbformat": 4,
  "vscode": {
   "interpreter": {
    "hash": "77c8e46ef5c71c60b8330166b14811dba4862d93220352504a2c21ba915e6d44"
   }
  }
 },
 "nbformat": 4,
 "nbformat_minor": 2
}
