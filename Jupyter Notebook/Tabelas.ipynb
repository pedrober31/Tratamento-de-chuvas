{
 "cells": [
  {
   "cell_type": "code",
   "execution_count": 1,
   "metadata": {},
   "outputs": [],
   "source": [
    "import pandas as pd\n",
    "from shapely.geometry import Point\n",
    "import hydrobr\n",
    "import geopandas as gpd"
   ]
  },
  {
   "cell_type": "code",
   "execution_count": 2,
   "metadata": {},
   "outputs": [],
   "source": [
    "# Carrega dados das estações de chuvas usadas.\n",
    "df_chuvas = pd.read_csv(r'C:\\Users\\pedro\\Documents\\Pibic 21-22\\Tratamento-fluviometrico\\Dados\\chuvas.csv', index_col=0, parse_dates=True)"
   ]
  },
  {
   "cell_type": "code",
   "execution_count": 3,
   "metadata": {},
   "outputs": [
    {
     "data": {
      "text/html": [
       "<div>\n",
       "<style scoped>\n",
       "    .dataframe tbody tr th:only-of-type {\n",
       "        vertical-align: middle;\n",
       "    }\n",
       "\n",
       "    .dataframe tbody tr th {\n",
       "        vertical-align: top;\n",
       "    }\n",
       "\n",
       "    .dataframe thead th {\n",
       "        text-align: right;\n",
       "    }\n",
       "</style>\n",
       "<table border=\"1\" class=\"dataframe\">\n",
       "  <thead>\n",
       "    <tr style=\"text-align: right;\">\n",
       "      <th></th>\n",
       "      <th>Average</th>\n",
       "    </tr>\n",
       "  </thead>\n",
       "  <tbody>\n",
       "    <tr>\n",
       "      <th>00536018</th>\n",
       "      <td>1.997889</td>\n",
       "    </tr>\n",
       "    <tr>\n",
       "      <th>00536025</th>\n",
       "      <td>2.272252</td>\n",
       "    </tr>\n",
       "    <tr>\n",
       "      <th>00536031</th>\n",
       "      <td>1.783850</td>\n",
       "    </tr>\n",
       "    <tr>\n",
       "      <th>00636001</th>\n",
       "      <td>1.265214</td>\n",
       "    </tr>\n",
       "    <tr>\n",
       "      <th>00636003</th>\n",
       "      <td>1.835047</td>\n",
       "    </tr>\n",
       "    <tr>\n",
       "      <th>...</th>\n",
       "      <td>...</td>\n",
       "    </tr>\n",
       "    <tr>\n",
       "      <th>00738077</th>\n",
       "      <td>2.011662</td>\n",
       "    </tr>\n",
       "    <tr>\n",
       "      <th>00738078</th>\n",
       "      <td>1.896629</td>\n",
       "    </tr>\n",
       "    <tr>\n",
       "      <th>00738079</th>\n",
       "      <td>1.956834</td>\n",
       "    </tr>\n",
       "    <tr>\n",
       "      <th>00738080</th>\n",
       "      <td>2.144400</td>\n",
       "    </tr>\n",
       "    <tr>\n",
       "      <th>00738099</th>\n",
       "      <td>2.267723</td>\n",
       "    </tr>\n",
       "  </tbody>\n",
       "</table>\n",
       "<p>180 rows × 1 columns</p>\n",
       "</div>"
      ],
      "text/plain": [
       "           Average\n",
       "00536018  1.997889\n",
       "00536025  2.272252\n",
       "00536031  1.783850\n",
       "00636001  1.265214\n",
       "00636003  1.835047\n",
       "...            ...\n",
       "00738077  2.011662\n",
       "00738078  1.896629\n",
       "00738079  1.956834\n",
       "00738080  2.144400\n",
       "00738099  2.267723\n",
       "\n",
       "[180 rows x 1 columns]"
      ]
     },
     "execution_count": 3,
     "metadata": {},
     "output_type": "execute_result"
    }
   ],
   "source": [
    "# Obtem a média de chuva por estação.\n",
    "df_medias_k = pd.DataFrame(df_chuvas.mean(), columns=['Average'])\n",
    "df_medias_k"
   ]
  },
  {
   "cell_type": "code",
   "execution_count": 4,
   "metadata": {},
   "outputs": [],
   "source": [
    "# Obtem códigos das estações plu\n",
    "codigos = df_chuvas.columns"
   ]
  },
  {
   "cell_type": "code",
   "execution_count": 5,
   "metadata": {},
   "outputs": [],
   "source": [
    "# Cria df contendo as estações plu de interesse\n",
    "lista_estacoes = hydrobr.get_data.ANA.list_prec_stations()\n",
    "lista_estacoes = lista_estacoes.loc[lista_estacoes['Code'].isin(codigos)]"
   ]
  },
  {
   "cell_type": "code",
   "execution_count": 6,
   "metadata": {},
   "outputs": [],
   "source": [
    "# Cria geometria para as estações\n",
    "geometry = [Point(xy) for xy in zip(lista_estacoes['Longitude'], lista_estacoes['Latitude'])]\n",
    "lista_estacoes = gpd.GeoDataFrame(lista_estacoes, geometry=geometry)"
   ]
  },
  {
   "cell_type": "code",
   "execution_count": 7,
   "metadata": {},
   "outputs": [],
   "source": [
    "# Carrega os dados das bacias\n",
    "leste = gpd.read_file(r\"C:\\Users\\pedro\\Documents\\Pibic 21-22\\Tratamento-fluviometrico\\Dados\\Bacia_Leste.shp\")\n",
    "oeste = gpd.read_file(r\"C:\\Users\\pedro\\Documents\\Pibic 21-22\\Tratamento-fluviometrico\\Dados\\Bacia_oeste.shp\")"
   ]
  },
  {
   "cell_type": "code",
   "execution_count": 8,
   "metadata": {},
   "outputs": [],
   "source": [
    "# Dividi estações da região leste da bacia\n",
    "pip_mask_leste = lista_estacoes.within(leste.loc[0, 'geometry'])\n",
    "pip_data_leste = lista_estacoes.loc[pip_mask_leste]"
   ]
  },
  {
   "cell_type": "code",
   "execution_count": 9,
   "metadata": {},
   "outputs": [],
   "source": [
    "# Dividi estações da região oeste da bacia\n",
    "pip_mask_oeste = lista_estacoes.within(oeste.loc[0, 'geometry'])\n",
    "pip_data_oeste = lista_estacoes.loc[pip_mask_oeste]"
   ]
  },
  {
   "cell_type": "code",
   "execution_count": 10,
   "metadata": {},
   "outputs": [],
   "source": [
    "# Obtem codigos das estações plu do leste e oeste\n",
    "codigos_leste = pip_data_leste['Code'].to_list()\n",
    "codigos_oeste = pip_data_oeste['Code'].to_list()"
   ]
  },
  {
   "cell_type": "code",
   "execution_count": 11,
   "metadata": {},
   "outputs": [],
   "source": [
    "# Define o número do cluster por leste/oeste\n",
    "df_medias_k['Cluster'] = 0\n",
    "df_medias_k.loc[codigos_leste, 'Cluster'] = 1\n",
    "df_medias_k.loc[codigos_oeste, 'Cluster'] = 2"
   ]
  },
  {
   "cell_type": "code",
   "execution_count": 12,
   "metadata": {},
   "outputs": [],
   "source": [
    "# Exporta tabela\n",
    "df_medias_k.to_excel(r'C:\\Users\\pedro\\Documents\\Pibic 21-22\\Tratamento-fluviometrico\\Dados\\medias_cluster.xlsx')"
   ]
  },
  {
   "cell_type": "code",
   "execution_count": null,
   "metadata": {},
   "outputs": [],
   "source": []
  }
 ],
 "metadata": {
  "kernelspec": {
   "display_name": "pibenv",
   "language": "python",
   "name": "python3"
  },
  "language_info": {
   "codemirror_mode": {
    "name": "ipython",
    "version": 3
   },
   "file_extension": ".py",
   "mimetype": "text/x-python",
   "name": "python",
   "nbconvert_exporter": "python",
   "pygments_lexer": "ipython3",
   "version": "3.10.7"
  },
  "orig_nbformat": 4,
  "vscode": {
   "interpreter": {
    "hash": "5b2c0949b22f09819ce62a41c3ea5c4acc8b8831e6babcee098109c37621a4da"
   }
  }
 },
 "nbformat": 4,
 "nbformat_minor": 2
}
